{
 "cells": [
  {
   "cell_type": "code",
   "execution_count": 2,
   "metadata": {},
   "outputs": [],
   "source": [
    "import pandas as pd\n",
    "import pytest\n",
    "\n",
    "from pandas_profiling import ProfileReport\n",
    "from pathlib import Path\n",
    "\n",
    "import numpy as np\n",
    "import pandas as pd\n",
    "import requests\n",
    "from IPython.display import display\n",
    "from IPython.utils.capture import capture_output, CapturedIO\n",
    "import IPython.utils\n",
    "\n",
    "\n",
    "import pandas_profiling"
   ]
  },
  {
   "cell_type": "code",
   "execution_count": 3,
   "metadata": {},
   "outputs": [],
   "source": [
    "## import matplot lib after importing pandas profiling to recreate Issue #888, 837\n",
    "import matplotlib.pyplot as plt\n",
    "import matplotlib"
   ]
  },
  {
   "cell_type": "code",
   "execution_count": 4,
   "metadata": {},
   "outputs": [],
   "source": [
    "with capture_output() as out_matplot:\n",
    "    plt.plot([1, 2, 3, 4])\n",
    "    plt.ylabel('some numbers in a pyplot')\n",
    "    plt.show()\n",
    "    \n",
    "assert len(out_matplot.outputs) == 1\n",
    "assert \"<Figure\" in out_matplot.outputs[0].data[\"text/plain\"] \n",
    "assert len(out_matplot.outputs[0].data[\"image/png\"]) > 0 #assert an image actually exists\n"
   ]
  },
  {
   "cell_type": "code",
   "execution_count": 13,
   "metadata": {
    "scrolled": true
   },
   "outputs": [
    {
     "data": {
      "image/png": "[encoded data removed]",
      "text/plain": [
       "<Figure size 432x288 with 1 Axes>"
      ]
     },
     "metadata": {
      "needs_background": "light"
     },
     "output_type": "display_data"
    }
   ],
   "source": [
    "from IPython.utils import capture\n",
    "from IPython.display import Image, display\n",
    "\n",
    "with capture.capture_output() as cap:\n",
    "    \n",
    "    df = pd.DataFrame(data={\"col1\": [1, 2]})\n",
    "    display(Image(df.plot(kind=\"line\", subplots=True, sharex=True, legend=True)))\n",
    "assert len(cap.outputs[0].data) == 2\n",
    "assert \"IPython.core.display.Image\" in cap.outputs[0].data[\"text/plain\"]\n",
    "assert len(cap.outputs[0].data[\"image/png\"]) > 0 #assert an image actually exists"
   ]
  }
 ],
 "metadata": {
  "file_extension": ".py",
  "kernelspec": {
   "display_name": "Python 3.9.9 64-bit ('venv': venv)",
   "language": "python",
   "name": "python39964bitvenvvenv9a8385474b4d41148e4fbaedabba2862"
  },
  "language_info": {
   "codemirror_mode": {
    "name": "ipython",
    "version": 3
   },
   "file_extension": ".py",
   "mimetype": "text/x-python",
   "name": "python",
   "nbconvert_exporter": "python",
   "pygments_lexer": "ipython3",
   "version": "3.9.9"
  },
  "mimetype": "text/x-python",
  "name": "python",
  "npconvert_exporter": "python",
  "pygments_lexer": "ipython3",
  "version": 3
 },
 "nbformat": 4,
 "nbformat_minor": 2
}
